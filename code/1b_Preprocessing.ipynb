{
 "cells": [
  {
   "cell_type": "markdown",
   "metadata": {},
   "source": [
    "# 1b_Preprocessing\n",
    "\n",
    "---\n",
    "\n",
    "- Data Cleaning and Feature Engineering"
   ]
  },
  {
   "cell_type": "code",
   "execution_count": 21,
   "metadata": {},
   "outputs": [],
   "source": [
    "import pandas as pd\n"
   ]
  },
  {
   "cell_type": "markdown",
   "metadata": {},
   "source": [
    "## Import Data"
   ]
  },
  {
   "cell_type": "code",
   "execution_count": 22,
   "metadata": {},
   "outputs": [],
   "source": [
    "df_train = pd.read_csv('../assets/data_wk/train.csv')\n",
    "df_test = pd.read_csv('../assets/data_wk/test.csv')\n",
    "df_spray = pd.read_csv('../assets/data_wk/spray.csv')\n",
    "df_weather = pd.read_csv('../assets/data_wk/weather.csv')"
   ]
  },
  {
   "cell_type": "code",
   "execution_count": 23,
   "metadata": {},
   "outputs": [
    {
     "name": "stdout",
     "output_type": "stream",
     "text": [
      "<class 'pandas.core.frame.DataFrame'>\n",
      "RangeIndex: 10506 entries, 0 to 10505\n",
      "Data columns (total 12 columns):\n",
      " #   Column                  Non-Null Count  Dtype  \n",
      "---  ------                  --------------  -----  \n",
      " 0   Date                    10506 non-null  object \n",
      " 1   Address                 10506 non-null  object \n",
      " 2   Species                 10506 non-null  object \n",
      " 3   Block                   10506 non-null  int64  \n",
      " 4   Street                  10506 non-null  object \n",
      " 5   Trap                    10506 non-null  object \n",
      " 6   AddressNumberAndStreet  10506 non-null  object \n",
      " 7   Latitude                10506 non-null  float64\n",
      " 8   Longitude               10506 non-null  float64\n",
      " 9   AddressAccuracy         10506 non-null  int64  \n",
      " 10  NumMosquitos            10506 non-null  int64  \n",
      " 11  WnvPresent              10506 non-null  int64  \n",
      "dtypes: float64(2), int64(4), object(6)\n",
      "memory usage: 985.1+ KB\n"
     ]
    }
   ],
   "source": [
    "df_train.info()"
   ]
  },
  {
   "cell_type": "code",
   "execution_count": 24,
   "metadata": {},
   "outputs": [
    {
     "name": "stdout",
     "output_type": "stream",
     "text": [
      "<class 'pandas.core.frame.DataFrame'>\n",
      "RangeIndex: 116293 entries, 0 to 116292\n",
      "Data columns (total 11 columns):\n",
      " #   Column                  Non-Null Count   Dtype  \n",
      "---  ------                  --------------   -----  \n",
      " 0   Id                      116293 non-null  int64  \n",
      " 1   Date                    116293 non-null  object \n",
      " 2   Address                 116293 non-null  object \n",
      " 3   Species                 116293 non-null  object \n",
      " 4   Block                   116293 non-null  int64  \n",
      " 5   Street                  116293 non-null  object \n",
      " 6   Trap                    116293 non-null  object \n",
      " 7   AddressNumberAndStreet  116293 non-null  object \n",
      " 8   Latitude                116293 non-null  float64\n",
      " 9   Longitude               116293 non-null  float64\n",
      " 10  AddressAccuracy         116293 non-null  int64  \n",
      "dtypes: float64(2), int64(3), object(6)\n",
      "memory usage: 9.8+ MB\n"
     ]
    }
   ],
   "source": [
    "df_test.info()"
   ]
  },
  {
   "cell_type": "code",
   "execution_count": 25,
   "metadata": {},
   "outputs": [
    {
     "name": "stdout",
     "output_type": "stream",
     "text": [
      "<class 'pandas.core.frame.DataFrame'>\n",
      "RangeIndex: 14835 entries, 0 to 14834\n",
      "Data columns (total 4 columns):\n",
      " #   Column     Non-Null Count  Dtype  \n",
      "---  ------     --------------  -----  \n",
      " 0   Date       14835 non-null  object \n",
      " 1   Time       14251 non-null  object \n",
      " 2   Latitude   14835 non-null  float64\n",
      " 3   Longitude  14835 non-null  float64\n",
      "dtypes: float64(2), object(2)\n",
      "memory usage: 463.7+ KB\n"
     ]
    }
   ],
   "source": [
    "df_spray.info()"
   ]
  },
  {
   "cell_type": "code",
   "execution_count": 26,
   "metadata": {},
   "outputs": [
    {
     "name": "stdout",
     "output_type": "stream",
     "text": [
      "<class 'pandas.core.frame.DataFrame'>\n",
      "RangeIndex: 2944 entries, 0 to 2943\n",
      "Data columns (total 22 columns):\n",
      " #   Column       Non-Null Count  Dtype  \n",
      "---  ------       --------------  -----  \n",
      " 0   Station      2944 non-null   int64  \n",
      " 1   Date         2944 non-null   object \n",
      " 2   Tmax         2944 non-null   int64  \n",
      " 3   Tmin         2944 non-null   int64  \n",
      " 4   Tavg         2944 non-null   object \n",
      " 5   Depart       2944 non-null   object \n",
      " 6   DewPoint     2944 non-null   int64  \n",
      " 7   WetBulb      2944 non-null   object \n",
      " 8   Heat         2944 non-null   object \n",
      " 9   Cool         2944 non-null   object \n",
      " 10  Sunrise      2944 non-null   object \n",
      " 11  Sunset       2944 non-null   object \n",
      " 12  CodeSum      2944 non-null   object \n",
      " 13  Depth        2944 non-null   object \n",
      " 14  Water1       2944 non-null   object \n",
      " 15  SnowFall     2944 non-null   object \n",
      " 16  PrecipTotal  2944 non-null   object \n",
      " 17  StnPressure  2944 non-null   object \n",
      " 18  SeaLevel     2944 non-null   object \n",
      " 19  ResultSpeed  2944 non-null   float64\n",
      " 20  ResultDir    2944 non-null   int64  \n",
      " 21  AvgSpeed     2944 non-null   object \n",
      "dtypes: float64(1), int64(5), object(16)\n",
      "memory usage: 506.1+ KB\n"
     ]
    }
   ],
   "source": [
    "df_weather.info()"
   ]
  },
  {
   "cell_type": "markdown",
   "metadata": {},
   "source": [
    "## Data Cleaning\n",
    "\n",
    "---\n"
   ]
  },
  {
   "cell_type": "markdown",
   "metadata": {},
   "source": [
    "### Change Date to DateTime datatype & Index"
   ]
  },
  {
   "cell_type": "code",
   "execution_count": 27,
   "metadata": {},
   "outputs": [],
   "source": [
    "df_train['Date'] = pd.to_datetime(df_train['Date'])\n",
    "df_test['Date'] = pd.to_datetime(df_test['Date'])\n",
    "df_weather['Date'] = pd.to_datetime(df_weather['Date'])\n",
    "df_spray['Date'] = pd.to_datetime(df_spray['Date'])\n",
    "\n",
    "df_weather = df_weather.set_index('Date')\n",
    "df_train = df_train.set_index('Date')\n",
    "df_test = df_test.set_index('Date')\n",
    "df_spray = df_spray.set_index('Date')\n"
   ]
  },
  {
   "cell_type": "markdown",
   "metadata": {},
   "source": [
    "### Weather data - Drop Features and Convert Datatype to numeric"
   ]
  },
  {
   "cell_type": "code",
   "execution_count": 28,
   "metadata": {},
   "outputs": [],
   "source": [
    "def float_convertor(string_value):\n",
    "    try:\n",
    "        return float(string_value)\n",
    "    except:\n",
    "        pass\n",
    "    \n",
    "def int_convertor(string_value):\n",
    "    try:\n",
    "        return int(string_value)\n",
    "    except:\n",
    "        try:\n",
    "            string_value = string_value.replace(' ','')\n",
    "            return int(string_value)\n",
    "        except:\n",
    "            pass"
   ]
  },
  {
   "cell_type": "code",
   "execution_count": 29,
   "metadata": {},
   "outputs": [],
   "source": [
    "# reset index back to number of rows\n",
    "df_weather = df_weather.reset_index()\n",
    "\n",
    "# Drop rows with missing values indeicated as \"M\" or \"-\"\n",
    "df_weather = df_weather.drop(df_weather[df_weather['StnPressure']=='M'].index, axis = 0)\n",
    "df_weather = df_weather.drop(df_weather[df_weather['SeaLevel']=='M'].index, axis = 0)\n",
    "df_weather = df_weather.drop(df_weather[df_weather['WetBulb']=='M'].index, axis = 0)\n",
    "df_weather = df_weather.drop(df_weather[df_weather['Sunrise']=='-'].index, axis = 0)\n",
    "\n",
    "# Convert string to integer or float\n",
    "df_weather['Tavg'] = df_weather['Tavg'].map(int_convertor)\n",
    "df_weather[\"StnPressure\"]=df_weather['StnPressure'].map(float_convertor)\n",
    "df_weather['SeaLevel']=df_weather['SeaLevel'].map(float_convertor)\n",
    "df_weather['WetBulb'] = df_weather['WetBulb'].map(int_convertor)\n",
    "df_weather['AvgSpeed'] = df_weather['AvgSpeed'].map(float_convertor)\n",
    "df_weather['Heat'] = df_weather['Heat'].map(int_convertor)\n",
    "df_weather['Cool'] = df_weather['Cool'].map(int_convertor)\n",
    "df_weather['Sunrise']=df_weather['Sunset'].map(int_convertor)\n",
    "df_weather['Sunset']=df_weather['Sunset'].map(int_convertor)\n",
    "\n",
    "# Revert index back to date\n",
    "df_weather = df_weather.set_index('Date')\n"
   ]
  },
  {
   "cell_type": "markdown",
   "metadata": {},
   "source": [
    "### Convert spray data time feature to 24 hr format"
   ]
  },
  {
   "cell_type": "code",
   "execution_count": 30,
   "metadata": {},
   "outputs": [
    {
     "data": {
      "text/html": [
       "<div>\n",
       "<style scoped>\n",
       "    .dataframe tbody tr th:only-of-type {\n",
       "        vertical-align: middle;\n",
       "    }\n",
       "\n",
       "    .dataframe tbody tr th {\n",
       "        vertical-align: top;\n",
       "    }\n",
       "\n",
       "    .dataframe thead th {\n",
       "        text-align: right;\n",
       "    }\n",
       "</style>\n",
       "<table border=\"1\" class=\"dataframe\">\n",
       "  <thead>\n",
       "    <tr style=\"text-align: right;\">\n",
       "      <th></th>\n",
       "      <th>Time</th>\n",
       "      <th>Latitude</th>\n",
       "      <th>Longitude</th>\n",
       "    </tr>\n",
       "    <tr>\n",
       "      <th>Date</th>\n",
       "      <th></th>\n",
       "      <th></th>\n",
       "      <th></th>\n",
       "    </tr>\n",
       "  </thead>\n",
       "  <tbody>\n",
       "    <tr>\n",
       "      <th>2011-08-29</th>\n",
       "      <td>18:56:58</td>\n",
       "      <td>42.391623</td>\n",
       "      <td>-88.089163</td>\n",
       "    </tr>\n",
       "    <tr>\n",
       "      <th>2011-08-29</th>\n",
       "      <td>18:57:08</td>\n",
       "      <td>42.391348</td>\n",
       "      <td>-88.089163</td>\n",
       "    </tr>\n",
       "    <tr>\n",
       "      <th>2011-08-29</th>\n",
       "      <td>18:57:18</td>\n",
       "      <td>42.391022</td>\n",
       "      <td>-88.089157</td>\n",
       "    </tr>\n",
       "    <tr>\n",
       "      <th>2011-08-29</th>\n",
       "      <td>18:57:28</td>\n",
       "      <td>42.390637</td>\n",
       "      <td>-88.089158</td>\n",
       "    </tr>\n",
       "    <tr>\n",
       "      <th>2011-08-29</th>\n",
       "      <td>18:57:38</td>\n",
       "      <td>42.390410</td>\n",
       "      <td>-88.088858</td>\n",
       "    </tr>\n",
       "    <tr>\n",
       "      <th>...</th>\n",
       "      <td>...</td>\n",
       "      <td>...</td>\n",
       "      <td>...</td>\n",
       "    </tr>\n",
       "    <tr>\n",
       "      <th>2013-09-05</th>\n",
       "      <td>20:34:11</td>\n",
       "      <td>42.006587</td>\n",
       "      <td>-87.812355</td>\n",
       "    </tr>\n",
       "    <tr>\n",
       "      <th>2013-09-05</th>\n",
       "      <td>20:35:01</td>\n",
       "      <td>42.006192</td>\n",
       "      <td>-87.816015</td>\n",
       "    </tr>\n",
       "    <tr>\n",
       "      <th>2013-09-05</th>\n",
       "      <td>20:35:21</td>\n",
       "      <td>42.006022</td>\n",
       "      <td>-87.817392</td>\n",
       "    </tr>\n",
       "    <tr>\n",
       "      <th>2013-09-05</th>\n",
       "      <td>20:35:31</td>\n",
       "      <td>42.005453</td>\n",
       "      <td>-87.817423</td>\n",
       "    </tr>\n",
       "    <tr>\n",
       "      <th>2013-09-05</th>\n",
       "      <td>20:35:41</td>\n",
       "      <td>42.004805</td>\n",
       "      <td>-87.817460</td>\n",
       "    </tr>\n",
       "  </tbody>\n",
       "</table>\n",
       "<p>14835 rows × 3 columns</p>\n",
       "</div>"
      ],
      "text/plain": [
       "                Time   Latitude  Longitude\n",
       "Date                                      \n",
       "2011-08-29  18:56:58  42.391623 -88.089163\n",
       "2011-08-29  18:57:08  42.391348 -88.089163\n",
       "2011-08-29  18:57:18  42.391022 -88.089157\n",
       "2011-08-29  18:57:28  42.390637 -88.089158\n",
       "2011-08-29  18:57:38  42.390410 -88.088858\n",
       "...              ...        ...        ...\n",
       "2013-09-05  20:34:11  42.006587 -87.812355\n",
       "2013-09-05  20:35:01  42.006192 -87.816015\n",
       "2013-09-05  20:35:21  42.006022 -87.817392\n",
       "2013-09-05  20:35:31  42.005453 -87.817423\n",
       "2013-09-05  20:35:41  42.004805 -87.817460\n",
       "\n",
       "[14835 rows x 3 columns]"
      ]
     },
     "execution_count": 30,
     "metadata": {},
     "output_type": "execute_result"
    }
   ],
   "source": [
    "df_spray['Time'] = pd.to_datetime(df_spray['Time'],format= '%I:%M:%S %p' ).dt.time\n",
    "df_spray"
   ]
  },
  {
   "cell_type": "markdown",
   "metadata": {},
   "source": [
    "## Feature Engineering\n",
    "\n",
    "---"
   ]
  },
  {
   "cell_type": "markdown",
   "metadata": {},
   "source": [
    "### Merge train/test and weather dataframe"
   ]
  },
  {
   "cell_type": "code",
   "execution_count": 31,
   "metadata": {},
   "outputs": [],
   "source": [
    "df_main_train = pd.merge(df_train,df_weather,how='inner',left_index=True,right_index=True)\n"
   ]
  },
  {
   "cell_type": "code",
   "execution_count": 32,
   "metadata": {},
   "outputs": [],
   "source": [
    "df_main_test = pd.merge(df_test,df_weather,how='inner',left_index=True,right_index=True)\n"
   ]
  },
  {
   "cell_type": "markdown",
   "metadata": {},
   "source": [
    "### Extract month and day from date"
   ]
  },
  {
   "cell_type": "code",
   "execution_count": 33,
   "metadata": {},
   "outputs": [],
   "source": [
    "df_main_test['Month'] = pd.to_datetime(df_main_test.index).month\n",
    "df_main_test['Day'] = pd.to_datetime(df_main_test.index).day\n",
    "\n",
    "df_main_train['Month'] = pd.to_datetime(df_main_train.index).month\n",
    "df_main_train['Day'] = pd.to_datetime(df_main_train.index).day"
   ]
  },
  {
   "cell_type": "markdown",
   "metadata": {},
   "source": [
    "### Add lag features\n",
    "\n",
    "---\n",
    "\n",
    "The lag features and durations are added based on the reseach done by another study. (Source: https://link.springer.com/article/10.1007/s00484-020-02059-9)"
   ]
  },
  {
   "cell_type": "code",
   "execution_count": 34,
   "metadata": {},
   "outputs": [],
   "source": [
    "def add_lag_feature(df):\n",
    "    \n",
    "    for i in [7,14,21,28,35]:\n",
    "        df[f'Tavg_Lag{i}'] = df['Tavg'].shift(i)\n",
    "        df[f'DewPoint_Lag{i}'] = df['DewPoint'].shift(i)\n",
    "        df[f'WetBulb_Lag{i}'] = df['WetBulb'].shift(i)\n",
    "        df[f'PrecipTotal_Lag{i}'] = df['PrecipTotal'].shift(i)\n",
    "        df[f'SeaLevel_Lag{i}'] = df['SeaLevel'].shift(i)\n",
    "    return df"
   ]
  },
  {
   "cell_type": "code",
   "execution_count": 35,
   "metadata": {},
   "outputs": [],
   "source": [
    "df_main_train = add_lag_feature(df_main_train)\n",
    "df_main_test = add_lag_feature(df_main_test)"
   ]
  },
  {
   "cell_type": "markdown",
   "metadata": {},
   "source": [
    "### Drop Features\n"
   ]
  },
  {
   "cell_type": "code",
   "execution_count": 36,
   "metadata": {},
   "outputs": [],
   "source": [
    "df_main_train = df_main_train.drop(columns=['Address','Street','AddressNumberAndStreet','NumMosquitos','Trap'])\n",
    "df_main_train = df_main_train.drop(columns=['CodeSum','Station','Heat','Cool','Sunrise','Sunset','SnowFall','Water1','Depth','Depart'])\n",
    "\n",
    "df_main_test = df_main_test.drop(columns=['Address','Street','AddressNumberAndStreet','Trap'])\n",
    "df_main_test = df_main_test.drop(columns=['CodeSum','Station','Heat','Cool','Sunrise','Sunset','SnowFall','Water1','Depth','Depart'])\n"
   ]
  },
  {
   "cell_type": "code",
   "execution_count": 37,
   "metadata": {},
   "outputs": [
    {
     "name": "stdout",
     "output_type": "stream",
     "text": [
      "<class 'pandas.core.frame.DataFrame'>\n",
      "DatetimeIndex: 10413 entries, 2007-05-29 to 2013-09-26\n",
      "Data columns (total 44 columns):\n",
      " #   Column             Non-Null Count  Dtype  \n",
      "---  ------             --------------  -----  \n",
      " 0   Species            10413 non-null  object \n",
      " 1   Block              10413 non-null  int64  \n",
      " 2   Latitude           10413 non-null  float64\n",
      " 3   Longitude          10413 non-null  float64\n",
      " 4   AddressAccuracy    10413 non-null  int64  \n",
      " 5   WnvPresent         10413 non-null  int64  \n",
      " 6   Tmax               10413 non-null  int64  \n",
      " 7   Tmin               10413 non-null  int64  \n",
      " 8   Tavg               10413 non-null  int64  \n",
      " 9   DewPoint           10413 non-null  int64  \n",
      " 10  WetBulb            10413 non-null  int64  \n",
      " 11  PrecipTotal        10413 non-null  object \n",
      " 12  StnPressure        10413 non-null  float64\n",
      " 13  SeaLevel           10413 non-null  float64\n",
      " 14  ResultSpeed        10413 non-null  float64\n",
      " 15  ResultDir          10413 non-null  int64  \n",
      " 16  AvgSpeed           10413 non-null  float64\n",
      " 17  Month              10413 non-null  int64  \n",
      " 18  Day                10413 non-null  int64  \n",
      " 19  Tavg_Lag7          10406 non-null  float64\n",
      " 20  DewPoint_Lag7      10406 non-null  float64\n",
      " 21  WetBulb_Lag7       10406 non-null  float64\n",
      " 22  PrecipTotal_Lag7   10406 non-null  object \n",
      " 23  SeaLevel_Lag7      10406 non-null  float64\n",
      " 24  Tavg_Lag14         10399 non-null  float64\n",
      " 25  DewPoint_Lag14     10399 non-null  float64\n",
      " 26  WetBulb_Lag14      10399 non-null  float64\n",
      " 27  PrecipTotal_Lag14  10399 non-null  object \n",
      " 28  SeaLevel_Lag14     10399 non-null  float64\n",
      " 29  Tavg_Lag21         10392 non-null  float64\n",
      " 30  DewPoint_Lag21     10392 non-null  float64\n",
      " 31  WetBulb_Lag21      10392 non-null  float64\n",
      " 32  PrecipTotal_Lag21  10392 non-null  object \n",
      " 33  SeaLevel_Lag21     10392 non-null  float64\n",
      " 34  Tavg_Lag28         10385 non-null  float64\n",
      " 35  DewPoint_Lag28     10385 non-null  float64\n",
      " 36  WetBulb_Lag28      10385 non-null  float64\n",
      " 37  PrecipTotal_Lag28  10385 non-null  object \n",
      " 38  SeaLevel_Lag28     10385 non-null  float64\n",
      " 39  Tavg_Lag35         10378 non-null  float64\n",
      " 40  DewPoint_Lag35     10378 non-null  float64\n",
      " 41  WetBulb_Lag35      10378 non-null  float64\n",
      " 42  PrecipTotal_Lag35  10378 non-null  object \n",
      " 43  SeaLevel_Lag35     10378 non-null  float64\n",
      "dtypes: float64(26), int64(11), object(7)\n",
      "memory usage: 3.6+ MB\n"
     ]
    }
   ],
   "source": [
    "df_main_train.info()"
   ]
  },
  {
   "cell_type": "markdown",
   "metadata": {},
   "source": [
    "## Save Data"
   ]
  },
  {
   "cell_type": "code",
   "execution_count": 38,
   "metadata": {},
   "outputs": [],
   "source": [
    "df_main_train.to_csv('../assets/data_wk/train_data_engineered.csv',index=False)\n",
    "df_main_test.to_csv('../assets/data_wk/test_data_engineered.csv',index=False)\n",
    "df_weather.to_csv('../assets/data_wk/weather_data_cleaned.csv',index=True)\n",
    "df_spray.to_csv('../assets/data_wk/spray_data_cleaned.csv',index=True)\n",
    "df_train.to_csv('../assets/data_wk/train_data_cleaned.csv',index=True)"
   ]
  }
 ],
 "metadata": {
  "kernelspec": {
   "display_name": "Python 3.8.13 ('dsi-sg')",
   "language": "python",
   "name": "python3"
  },
  "language_info": {
   "codemirror_mode": {
    "name": "ipython",
    "version": 3
   },
   "file_extension": ".py",
   "mimetype": "text/x-python",
   "name": "python",
   "nbconvert_exporter": "python",
   "pygments_lexer": "ipython3",
   "version": "3.8.13"
  },
  "orig_nbformat": 4,
  "vscode": {
   "interpreter": {
    "hash": "9f8da1e1bd357d59a3b66de042951529b522660e89c8368a5e504d03fc911be3"
   }
  }
 },
 "nbformat": 4,
 "nbformat_minor": 2
}
